{
 "cells": [
  {
   "cell_type": "markdown",
   "metadata": {},
   "source": [
    "# Project: Adiddas Data\n",
    "###\n",
    "### Table of Contents\n",
    "#####        Introduction\n",
    "#####        Data Cleaning\n",
    "#####        Exploratory Data Analysis\n",
    "#####        Machine Learning\n",
    "\n",
    "\n",
    "###\n",
    "\n",
    "\n",
    "# Introduction:\n",
    "An Adidas sales dataset is a collection of data that includes information on the sales of Adidas products. This type of dataset may include details such as the number of units sold, the total sales revenue, the location of the sales, the type of product sold, and any other relevant information.\n",
    "\n",
    "\n",
    "\n",
    "\n",
    "#\n",
    "\n",
    "\n",
    "\n",
    " \n",
    "\n",
    "##  Analysis of the DataSet (questions that is analyized in the dataset):\n",
    "  \n",
    "\n",
    "####    1- What Percentage of Sales and Operating Profit in  Different Region.\n",
    "\n",
    "####    2- What is the top sales method?\n",
    "\n",
    "####    3- Top selling products.\n",
    "\n",
    "####    4- Who are the Top Retailersfor total sales and Operating Profit?\n",
    "\n",
    "####    5- What aboat sales over month?\n",
    "\n",
    "####    6- Which Sales Method is the most at every region?\n",
    "\n",
    "####    7-  Mean of price for each unit of product in each region.\n",
    "\n",
    "####    8- Price Per Product Distribution.\n",
    "\n",
    "####    9- Relationship between Operating Profit and city using boxplot.\n",
    "\n",
    "####    10- Relationship between Region and Price per Unit .\n",
    "\n",
    "####    11- Top 10 city with highest Total Sales.\n",
    "\n",
    "####    12- what is total sales for sales method .\n",
    "##"
   ]
  },
  {
   "cell_type": "code",
   "execution_count": 1,
   "metadata": {},
   "outputs": [],
   "source": [
    "import pandas as pd\n",
    "import numpy as np\n",
    "import matplotlib.pyplot as plt\n",
    "import seaborn as sns\n",
    "\n",
    "%matplotlib inline"
   ]
  },
  {
   "cell_type": "code",
   "execution_count": 2,
   "metadata": {
    "scrolled": true
   },
   "outputs": [
    {
     "data": {
      "text/html": [
       "<div>\n",
       "<style scoped>\n",
       "    .dataframe tbody tr th:only-of-type {\n",
       "        vertical-align: middle;\n",
       "    }\n",
       "\n",
       "    .dataframe tbody tr th {\n",
       "        vertical-align: top;\n",
       "    }\n",
       "\n",
       "    .dataframe thead th {\n",
       "        text-align: right;\n",
       "    }\n",
       "</style>\n",
       "<table border=\"1\" class=\"dataframe\">\n",
       "  <thead>\n",
       "    <tr style=\"text-align: right;\">\n",
       "      <th></th>\n",
       "      <th>Retailer</th>\n",
       "      <th>Retailer ID</th>\n",
       "      <th>Invoice Date</th>\n",
       "      <th>Region</th>\n",
       "      <th>State</th>\n",
       "      <th>City</th>\n",
       "      <th>Product</th>\n",
       "      <th>Price per Unit</th>\n",
       "      <th>Units Sold</th>\n",
       "      <th>Total Sales</th>\n",
       "      <th>Operating Profit</th>\n",
       "      <th>Sales Method</th>\n",
       "    </tr>\n",
       "  </thead>\n",
       "  <tbody>\n",
       "    <tr>\n",
       "      <th>0</th>\n",
       "      <td>Foot Locker</td>\n",
       "      <td>1185732</td>\n",
       "      <td>1/1/2020</td>\n",
       "      <td>Northeast</td>\n",
       "      <td>New York</td>\n",
       "      <td>New York</td>\n",
       "      <td>Men's Street Footwear</td>\n",
       "      <td>$50.00</td>\n",
       "      <td>1,200</td>\n",
       "      <td>60,000</td>\n",
       "      <td>$30,000</td>\n",
       "      <td>In-store</td>\n",
       "    </tr>\n",
       "    <tr>\n",
       "      <th>1</th>\n",
       "      <td>Foot Locker</td>\n",
       "      <td>1185732</td>\n",
       "      <td>1/2/2020</td>\n",
       "      <td>Northeast</td>\n",
       "      <td>New York</td>\n",
       "      <td>New York</td>\n",
       "      <td>Men's Athletic Footwear</td>\n",
       "      <td>$50.00</td>\n",
       "      <td>1,000</td>\n",
       "      <td>50,000</td>\n",
       "      <td>$15,000</td>\n",
       "      <td>In-store</td>\n",
       "    </tr>\n",
       "    <tr>\n",
       "      <th>2</th>\n",
       "      <td>Foot Locker</td>\n",
       "      <td>1185732</td>\n",
       "      <td>1/3/2020</td>\n",
       "      <td>Northeast</td>\n",
       "      <td>New York</td>\n",
       "      <td>New York</td>\n",
       "      <td>Women's Street Footwear</td>\n",
       "      <td>$40.00</td>\n",
       "      <td>1,000</td>\n",
       "      <td>40,000</td>\n",
       "      <td>$14,000</td>\n",
       "      <td>In-store</td>\n",
       "    </tr>\n",
       "    <tr>\n",
       "      <th>3</th>\n",
       "      <td>Foot Locker</td>\n",
       "      <td>1185732</td>\n",
       "      <td>1/4/2020</td>\n",
       "      <td>Northeast</td>\n",
       "      <td>New York</td>\n",
       "      <td>New York</td>\n",
       "      <td>Women's Athletic Footwear</td>\n",
       "      <td>$45.00</td>\n",
       "      <td>850</td>\n",
       "      <td>38,250</td>\n",
       "      <td>$13,388</td>\n",
       "      <td>In-store</td>\n",
       "    </tr>\n",
       "    <tr>\n",
       "      <th>4</th>\n",
       "      <td>Foot Locker</td>\n",
       "      <td>1185732</td>\n",
       "      <td>1/5/2020</td>\n",
       "      <td>Northeast</td>\n",
       "      <td>New York</td>\n",
       "      <td>New York</td>\n",
       "      <td>Men's Apparel</td>\n",
       "      <td>$60.00</td>\n",
       "      <td>900</td>\n",
       "      <td>54,000</td>\n",
       "      <td>$16,200</td>\n",
       "      <td>In-store</td>\n",
       "    </tr>\n",
       "  </tbody>\n",
       "</table>\n",
       "</div>"
      ],
      "text/plain": [
       "      Retailer  Retailer ID Invoice Date     Region     State      City  \\\n",
       "0  Foot Locker      1185732     1/1/2020  Northeast  New York  New York   \n",
       "1  Foot Locker      1185732     1/2/2020  Northeast  New York  New York   \n",
       "2  Foot Locker      1185732     1/3/2020  Northeast  New York  New York   \n",
       "3  Foot Locker      1185732     1/4/2020  Northeast  New York  New York   \n",
       "4  Foot Locker      1185732     1/5/2020  Northeast  New York  New York   \n",
       "\n",
       "                     Product Price per Unit Units Sold Total Sales  \\\n",
       "0      Men's Street Footwear        $50.00       1,200      60,000   \n",
       "1    Men's Athletic Footwear        $50.00       1,000      50,000   \n",
       "2    Women's Street Footwear        $40.00       1,000      40,000   \n",
       "3  Women's Athletic Footwear        $45.00         850      38,250   \n",
       "4              Men's Apparel        $60.00         900      54,000   \n",
       "\n",
       "  Operating Profit Sales Method  \n",
       "0         $30,000      In-store  \n",
       "1         $15,000      In-store  \n",
       "2         $14,000      In-store  \n",
       "3         $13,388      In-store  \n",
       "4         $16,200      In-store  "
      ]
     },
     "execution_count": 2,
     "metadata": {},
     "output_type": "execute_result"
    }
   ],
   "source": [
    "data = pd.read_csv(\"Adiddas Data.csv\")\n",
    "data.head()"
   ]
  },
  {
   "cell_type": "code",
   "execution_count": 3,
   "metadata": {},
   "outputs": [
    {
     "data": {
      "text/plain": [
       "7"
      ]
     },
     "execution_count": 3,
     "metadata": {},
     "output_type": "execute_result"
    }
   ],
   "source": [
    "data[\"Region\"].isnull().sum()"
   ]
  },
  {
   "cell_type": "code",
   "execution_count": 4,
   "metadata": {},
   "outputs": [
    {
     "data": {
      "text/plain": [
       "array(['$50.00 ', '$40.00 ', '$45.00 ', '$60.00 ', nan, '$55.00 ',\n",
       "       '$65.00 ', '$70.00 ', '$25.00 ', '$35.00 ', '$30.00 ', '$80.00 ',\n",
       "       '$75.00 ', '$20.00 ', '$85.00 ', '$100.00 ', '$90.00 ', '$95.00 ',\n",
       "       '$15.00 ', '$10.00 ', '$110.00 ', '$105.00 ', '$47.00 ', '$36.00 ',\n",
       "       '$41.00 ', '$46.00 ', '$44.00 ', '$58.00 ', '$48.00 ', '$39.00 ',\n",
       "       '$43.00 ', '$59.00 ', '$56.00 ', '$49.00 ', '$54.00 ', '$64.00 ',\n",
       "       '$53.00 ', '$61.00 ', '$62.00 ', '$68.00 ', '$52.00 ', '$66.00 ',\n",
       "       '$51.00 ', '$24.00 ', '$34.00 ', '$33.00 ', '$23.00 ', '$32.00 ',\n",
       "       '$38.00 ', '$29.00 ', '$37.00 ', '$27.00 ', '$42.00 ', '$72.00 ',\n",
       "       '$63.00 ', '$69.00 ', '$76.00 ', '$67.00 ', '$57.00 ', '$28.00 ',\n",
       "       '$18.00 ', '$19.00 ', '$71.00 ', '$78.00 ', '$73.00 ', '$74.00 ',\n",
       "       '$83.00 ', '$82.00 ', '$98.00 ', '$77.00 ', '$88.00 ', '$86.00 ',\n",
       "       '$14.00 ', '$9.00 ', '$97.00 ', '$81.00 ', '$79.00 ', '$96.00 ',\n",
       "       '$84.00 ', '$89.00 ', '$103.00 ', '$101.00 ', '$87.00 ', '$92.00 ',\n",
       "       '$31.00 ', '$26.00 ', '$21.00 ', '$13.00 ', '$22.00 ', '$17.00 ',\n",
       "       '$12.00 ', '$16.00 ', '$11.00 ', '$7.00 ', '$8.00 '], dtype=object)"
      ]
     },
     "execution_count": 4,
     "metadata": {},
     "output_type": "execute_result"
    }
   ],
   "source": [
    "data[\"Price per Unit\"].unique()"
   ]
  },
  {
   "cell_type": "code",
   "execution_count": 5,
   "metadata": {},
   "outputs": [
    {
     "data": {
      "text/plain": [
       "0       50.00 \n",
       "1       50.00 \n",
       "2       40.00 \n",
       "3       45.00 \n",
       "4       60.00 \n",
       "         ...  \n",
       "9643    50.00 \n",
       "9644    41.00 \n",
       "9645    41.00 \n",
       "9646    42.00 \n",
       "9647    29.00 \n",
       "Name: Price per Unit, Length: 9648, dtype: object"
      ]
     },
     "execution_count": 5,
     "metadata": {},
     "output_type": "execute_result"
    }
   ],
   "source": [
    "data[\"Price per Unit\"] = data[\"Price per Unit\"].str.replace(\"$\",\"\")\n",
    "data[\"Price per Unit\"]"
   ]
  },
  {
   "cell_type": "code",
   "execution_count": 6,
   "metadata": {},
   "outputs": [
    {
     "data": {
      "text/plain": [
       "0       50.0\n",
       "1       50.0\n",
       "2       40.0\n",
       "3       45.0\n",
       "4       60.0\n",
       "        ... \n",
       "9643    50.0\n",
       "9644    41.0\n",
       "9645    41.0\n",
       "9646    42.0\n",
       "9647    29.0\n",
       "Name: Price per Unit, Length: 9648, dtype: float64"
      ]
     },
     "execution_count": 6,
     "metadata": {},
     "output_type": "execute_result"
    }
   ],
   "source": [
    "data[\"Price per Unit\"] = data[\"Price per Unit\"].astype(\"float\")\n",
    "data[\"Price per Unit\"]"
   ]
  },
  {
   "cell_type": "code",
   "execution_count": 7,
   "metadata": {},
   "outputs": [],
   "source": [
    "data[\"Price per Unit\"] = data[\"Price per Unit\"].fillna(value = data[\"Price per Unit\"].mean())"
   ]
  },
  {
   "cell_type": "code",
   "execution_count": 8,
   "metadata": {},
   "outputs": [
    {
     "data": {
      "text/plain": [
       "Retailer            0\n",
       "Retailer ID         0\n",
       "Invoice Date        0\n",
       "Region              7\n",
       "State               0\n",
       "City                0\n",
       "Product             0\n",
       "Price per Unit      0\n",
       "Units Sold          0\n",
       "Total Sales         0\n",
       "Operating Profit    0\n",
       "Sales Method        0\n",
       "dtype: int64"
      ]
     },
     "execution_count": 8,
     "metadata": {},
     "output_type": "execute_result"
    }
   ],
   "source": [
    "data.isnull().sum()"
   ]
  },
  {
   "cell_type": "code",
   "execution_count": 9,
   "metadata": {},
   "outputs": [
    {
     "name": "stdout",
     "output_type": "stream",
     "text": [
      "<class 'pandas.core.frame.DataFrame'>\n",
      "RangeIndex: 9648 entries, 0 to 9647\n",
      "Data columns (total 12 columns):\n",
      " #   Column            Non-Null Count  Dtype  \n",
      "---  ------            --------------  -----  \n",
      " 0   Retailer          9648 non-null   object \n",
      " 1   Retailer ID       9648 non-null   int64  \n",
      " 2   Invoice Date      9648 non-null   object \n",
      " 3   Region            9641 non-null   object \n",
      " 4   State             9648 non-null   object \n",
      " 5   City              9648 non-null   object \n",
      " 6   Product           9648 non-null   object \n",
      " 7   Price per Unit    9648 non-null   float64\n",
      " 8   Units Sold        9648 non-null   object \n",
      " 9   Total Sales       9648 non-null   object \n",
      " 10  Operating Profit  9648 non-null   object \n",
      " 11  Sales Method      9648 non-null   object \n",
      "dtypes: float64(1), int64(1), object(10)\n",
      "memory usage: 904.6+ KB\n"
     ]
    }
   ],
   "source": [
    "data.info()"
   ]
  },
  {
   "cell_type": "code",
   "execution_count": 10,
   "metadata": {},
   "outputs": [
    {
     "data": {
      "text/html": [
       "<div>\n",
       "<style scoped>\n",
       "    .dataframe tbody tr th:only-of-type {\n",
       "        vertical-align: middle;\n",
       "    }\n",
       "\n",
       "    .dataframe tbody tr th {\n",
       "        vertical-align: top;\n",
       "    }\n",
       "\n",
       "    .dataframe thead th {\n",
       "        text-align: right;\n",
       "    }\n",
       "</style>\n",
       "<table border=\"1\" class=\"dataframe\">\n",
       "  <thead>\n",
       "    <tr style=\"text-align: right;\">\n",
       "      <th></th>\n",
       "      <th>Retailer</th>\n",
       "      <th>Retailer ID</th>\n",
       "      <th>Invoice Date</th>\n",
       "      <th>Region</th>\n",
       "      <th>State</th>\n",
       "      <th>City</th>\n",
       "      <th>Product</th>\n",
       "      <th>Price per Unit</th>\n",
       "      <th>Units Sold</th>\n",
       "      <th>Total Sales</th>\n",
       "      <th>Operating Profit</th>\n",
       "      <th>Sales Method</th>\n",
       "    </tr>\n",
       "  </thead>\n",
       "  <tbody>\n",
       "    <tr>\n",
       "      <th>0</th>\n",
       "      <td>Foot Locker</td>\n",
       "      <td>1185732</td>\n",
       "      <td>1/1/2020</td>\n",
       "      <td>Northeast</td>\n",
       "      <td>New York</td>\n",
       "      <td>New York</td>\n",
       "      <td>Men's Street Footwear</td>\n",
       "      <td>50.0</td>\n",
       "      <td>1,200</td>\n",
       "      <td>60,000</td>\n",
       "      <td>$30,000</td>\n",
       "      <td>In-store</td>\n",
       "    </tr>\n",
       "    <tr>\n",
       "      <th>1</th>\n",
       "      <td>Foot Locker</td>\n",
       "      <td>1185732</td>\n",
       "      <td>1/2/2020</td>\n",
       "      <td>Northeast</td>\n",
       "      <td>New York</td>\n",
       "      <td>New York</td>\n",
       "      <td>Men's Athletic Footwear</td>\n",
       "      <td>50.0</td>\n",
       "      <td>1,000</td>\n",
       "      <td>50,000</td>\n",
       "      <td>$15,000</td>\n",
       "      <td>In-store</td>\n",
       "    </tr>\n",
       "    <tr>\n",
       "      <th>2</th>\n",
       "      <td>Foot Locker</td>\n",
       "      <td>1185732</td>\n",
       "      <td>1/3/2020</td>\n",
       "      <td>Northeast</td>\n",
       "      <td>New York</td>\n",
       "      <td>New York</td>\n",
       "      <td>Women's Street Footwear</td>\n",
       "      <td>40.0</td>\n",
       "      <td>1,000</td>\n",
       "      <td>40,000</td>\n",
       "      <td>$14,000</td>\n",
       "      <td>In-store</td>\n",
       "    </tr>\n",
       "    <tr>\n",
       "      <th>3</th>\n",
       "      <td>Foot Locker</td>\n",
       "      <td>1185732</td>\n",
       "      <td>1/4/2020</td>\n",
       "      <td>Northeast</td>\n",
       "      <td>New York</td>\n",
       "      <td>New York</td>\n",
       "      <td>Women's Athletic Footwear</td>\n",
       "      <td>45.0</td>\n",
       "      <td>850</td>\n",
       "      <td>38,250</td>\n",
       "      <td>$13,388</td>\n",
       "      <td>In-store</td>\n",
       "    </tr>\n",
       "    <tr>\n",
       "      <th>4</th>\n",
       "      <td>Foot Locker</td>\n",
       "      <td>1185732</td>\n",
       "      <td>1/5/2020</td>\n",
       "      <td>Northeast</td>\n",
       "      <td>New York</td>\n",
       "      <td>New York</td>\n",
       "      <td>Men's Apparel</td>\n",
       "      <td>60.0</td>\n",
       "      <td>900</td>\n",
       "      <td>54,000</td>\n",
       "      <td>$16,200</td>\n",
       "      <td>In-store</td>\n",
       "    </tr>\n",
       "  </tbody>\n",
       "</table>\n",
       "</div>"
      ],
      "text/plain": [
       "      Retailer  Retailer ID Invoice Date     Region     State      City  \\\n",
       "0  Foot Locker      1185732     1/1/2020  Northeast  New York  New York   \n",
       "1  Foot Locker      1185732     1/2/2020  Northeast  New York  New York   \n",
       "2  Foot Locker      1185732     1/3/2020  Northeast  New York  New York   \n",
       "3  Foot Locker      1185732     1/4/2020  Northeast  New York  New York   \n",
       "4  Foot Locker      1185732     1/5/2020  Northeast  New York  New York   \n",
       "\n",
       "                     Product  Price per Unit Units Sold Total Sales  \\\n",
       "0      Men's Street Footwear            50.0      1,200      60,000   \n",
       "1    Men's Athletic Footwear            50.0      1,000      50,000   \n",
       "2    Women's Street Footwear            40.0      1,000      40,000   \n",
       "3  Women's Athletic Footwear            45.0        850      38,250   \n",
       "4              Men's Apparel            60.0        900      54,000   \n",
       "\n",
       "  Operating Profit Sales Method  \n",
       "0         $30,000      In-store  \n",
       "1         $15,000      In-store  \n",
       "2         $14,000      In-store  \n",
       "3         $13,388      In-store  \n",
       "4         $16,200      In-store  "
      ]
     },
     "execution_count": 10,
     "metadata": {},
     "output_type": "execute_result"
    }
   ],
   "source": [
    "data.head()"
   ]
  },
  {
   "cell_type": "code",
   "execution_count": 11,
   "metadata": {},
   "outputs": [
    {
     "data": {
      "text/plain": [
       "0       1200\n",
       "1       1000\n",
       "2       1000\n",
       "3        850\n",
       "4        900\n",
       "        ... \n",
       "9643      64\n",
       "9644     105\n",
       "9645     184\n",
       "9646      70\n",
       "9647      83\n",
       "Name: Units Sold, Length: 9648, dtype: object"
      ]
     },
     "execution_count": 11,
     "metadata": {},
     "output_type": "execute_result"
    }
   ],
   "source": [
    "data[\"Units Sold\"] = data[\"Units Sold\"].str.replace(\",\",\"\")\n",
    "data[\"Units Sold\"]"
   ]
  },
  {
   "cell_type": "code",
   "execution_count": 12,
   "metadata": {},
   "outputs": [
    {
     "data": {
      "text/plain": [
       "0       1200\n",
       "1       1000\n",
       "2       1000\n",
       "3        850\n",
       "4        900\n",
       "        ... \n",
       "9643      64\n",
       "9644     105\n",
       "9645     184\n",
       "9646      70\n",
       "9647      83\n",
       "Name: Units Sold, Length: 9648, dtype: int32"
      ]
     },
     "execution_count": 12,
     "metadata": {},
     "output_type": "execute_result"
    }
   ],
   "source": [
    "data[\"Units Sold\"] = data[\"Units Sold\"].astype(\"int\")\n",
    "data[\"Units Sold\"] "
   ]
  },
  {
   "cell_type": "code",
   "execution_count": 14,
   "metadata": {},
   "outputs": [
    {
     "data": {
      "text/plain": [
       "0       60000\n",
       "1       50000\n",
       "2       40000\n",
       "3       38250\n",
       "4       54000\n",
       "        ...  \n",
       "9643      320\n",
       "9644      431\n",
       "9645      754\n",
       "9646      294\n",
       "9647      241\n",
       "Name: Total Sales, Length: 9648, dtype: object"
      ]
     },
     "execution_count": 14,
     "metadata": {},
     "output_type": "execute_result"
    }
   ],
   "source": [
    "data[\"Total Sales\"] = data[\"Total Sales\"].str.replace(\",\",\"\")\n",
    "data[\"Total Sales\"]"
   ]
  },
  {
   "cell_type": "code",
   "execution_count": 15,
   "metadata": {},
   "outputs": [
    {
     "data": {
      "text/plain": [
       "0       60000\n",
       "1       50000\n",
       "2       40000\n",
       "3       38250\n",
       "4       54000\n",
       "        ...  \n",
       "9643      320\n",
       "9644      431\n",
       "9645      754\n",
       "9646      294\n",
       "9647      241\n",
       "Name: Total Sales, Length: 9648, dtype: int32"
      ]
     },
     "execution_count": 15,
     "metadata": {},
     "output_type": "execute_result"
    }
   ],
   "source": [
    "data[\"Total Sales\"] = data[\"Total Sales\"].astype(\"int\")\n",
    "data[\"Total Sales\"]"
   ]
  },
  {
   "cell_type": "code",
   "execution_count": 16,
   "metadata": {},
   "outputs": [
    {
     "data": {
      "text/plain": [
       "0       30000 \n",
       "1       15000 \n",
       "2       14000 \n",
       "3       13388 \n",
       "4       16200 \n",
       "         ...  \n",
       "9643       90 \n",
       "9644      138 \n",
       "9645      279 \n",
       "9646      123 \n",
       "9647       65 \n",
       "Name: Operating Profit, Length: 9648, dtype: object"
      ]
     },
     "execution_count": 16,
     "metadata": {},
     "output_type": "execute_result"
    }
   ],
   "source": [
    "data[\"Operating Profit\"] = data[\"Operating Profit\"].str.replace(\"$\",\"\").str.replace(\",\",\"\")\n",
    "data[\"Operating Profit\"]"
   ]
  },
  {
   "cell_type": "code",
   "execution_count": 17,
   "metadata": {},
   "outputs": [
    {
     "data": {
      "text/plain": [
       "0       30000\n",
       "1       15000\n",
       "2       14000\n",
       "3       13388\n",
       "4       16200\n",
       "        ...  \n",
       "9643       90\n",
       "9644      138\n",
       "9645      279\n",
       "9646      123\n",
       "9647       65\n",
       "Name: Operating Profit, Length: 9648, dtype: int32"
      ]
     },
     "execution_count": 17,
     "metadata": {},
     "output_type": "execute_result"
    }
   ],
   "source": [
    "data[\"Operating Profit\"] =data[\"Operating Profit\"].astype(\"int\")\n",
    "data[\"Operating Profit\"]"
   ]
  },
  {
   "cell_type": "code",
   "execution_count": 18,
   "metadata": {},
   "outputs": [
    {
     "data": {
      "text/plain": [
       "0      2020-01-01\n",
       "1      2020-01-02\n",
       "2      2020-01-03\n",
       "3      2020-01-04\n",
       "4      2020-01-05\n",
       "          ...    \n",
       "9643   2021-01-24\n",
       "9644   2021-01-24\n",
       "9645   2021-02-22\n",
       "9646   2021-02-22\n",
       "9647   2021-02-22\n",
       "Name: Invoice Date, Length: 9648, dtype: datetime64[ns]"
      ]
     },
     "execution_count": 18,
     "metadata": {},
     "output_type": "execute_result"
    }
   ],
   "source": [
    "data[\"Invoice Date\"] = pd.to_datetime(data[\"Invoice Date\"])\n",
    "data[\"Invoice Date\"]"
   ]
  },
  {
   "cell_type": "code",
   "execution_count": 19,
   "metadata": {},
   "outputs": [
    {
     "data": {
      "text/html": [
       "<div>\n",
       "<style scoped>\n",
       "    .dataframe tbody tr th:only-of-type {\n",
       "        vertical-align: middle;\n",
       "    }\n",
       "\n",
       "    .dataframe tbody tr th {\n",
       "        vertical-align: top;\n",
       "    }\n",
       "\n",
       "    .dataframe thead th {\n",
       "        text-align: right;\n",
       "    }\n",
       "</style>\n",
       "<table border=\"1\" class=\"dataframe\">\n",
       "  <thead>\n",
       "    <tr style=\"text-align: right;\">\n",
       "      <th></th>\n",
       "      <th>Retailer</th>\n",
       "      <th>Retailer ID</th>\n",
       "      <th>Invoice Date</th>\n",
       "      <th>Region</th>\n",
       "      <th>State</th>\n",
       "      <th>City</th>\n",
       "      <th>Product</th>\n",
       "      <th>Price per Unit</th>\n",
       "      <th>Units Sold</th>\n",
       "      <th>Total Sales</th>\n",
       "      <th>Operating Profit</th>\n",
       "      <th>Sales Method</th>\n",
       "    </tr>\n",
       "  </thead>\n",
       "  <tbody>\n",
       "    <tr>\n",
       "      <th>0</th>\n",
       "      <td>Foot Locker</td>\n",
       "      <td>1185732</td>\n",
       "      <td>2020-01-01</td>\n",
       "      <td>Northeast</td>\n",
       "      <td>New York</td>\n",
       "      <td>New York</td>\n",
       "      <td>Men's Street Footwear</td>\n",
       "      <td>50.0</td>\n",
       "      <td>1200</td>\n",
       "      <td>60000</td>\n",
       "      <td>30000</td>\n",
       "      <td>In-store</td>\n",
       "    </tr>\n",
       "    <tr>\n",
       "      <th>1</th>\n",
       "      <td>Foot Locker</td>\n",
       "      <td>1185732</td>\n",
       "      <td>2020-01-02</td>\n",
       "      <td>Northeast</td>\n",
       "      <td>New York</td>\n",
       "      <td>New York</td>\n",
       "      <td>Men's Athletic Footwear</td>\n",
       "      <td>50.0</td>\n",
       "      <td>1000</td>\n",
       "      <td>50000</td>\n",
       "      <td>15000</td>\n",
       "      <td>In-store</td>\n",
       "    </tr>\n",
       "    <tr>\n",
       "      <th>2</th>\n",
       "      <td>Foot Locker</td>\n",
       "      <td>1185732</td>\n",
       "      <td>2020-01-03</td>\n",
       "      <td>Northeast</td>\n",
       "      <td>New York</td>\n",
       "      <td>New York</td>\n",
       "      <td>Women's Street Footwear</td>\n",
       "      <td>40.0</td>\n",
       "      <td>1000</td>\n",
       "      <td>40000</td>\n",
       "      <td>14000</td>\n",
       "      <td>In-store</td>\n",
       "    </tr>\n",
       "    <tr>\n",
       "      <th>3</th>\n",
       "      <td>Foot Locker</td>\n",
       "      <td>1185732</td>\n",
       "      <td>2020-01-04</td>\n",
       "      <td>Northeast</td>\n",
       "      <td>New York</td>\n",
       "      <td>New York</td>\n",
       "      <td>Women's Athletic Footwear</td>\n",
       "      <td>45.0</td>\n",
       "      <td>850</td>\n",
       "      <td>38250</td>\n",
       "      <td>13388</td>\n",
       "      <td>In-store</td>\n",
       "    </tr>\n",
       "  </tbody>\n",
       "</table>\n",
       "</div>"
      ],
      "text/plain": [
       "      Retailer  Retailer ID Invoice Date     Region     State      City  \\\n",
       "0  Foot Locker      1185732   2020-01-01  Northeast  New York  New York   \n",
       "1  Foot Locker      1185732   2020-01-02  Northeast  New York  New York   \n",
       "2  Foot Locker      1185732   2020-01-03  Northeast  New York  New York   \n",
       "3  Foot Locker      1185732   2020-01-04  Northeast  New York  New York   \n",
       "\n",
       "                     Product  Price per Unit  Units Sold  Total Sales  \\\n",
       "0      Men's Street Footwear            50.0        1200        60000   \n",
       "1    Men's Athletic Footwear            50.0        1000        50000   \n",
       "2    Women's Street Footwear            40.0        1000        40000   \n",
       "3  Women's Athletic Footwear            45.0         850        38250   \n",
       "\n",
       "   Operating Profit Sales Method  \n",
       "0             30000     In-store  \n",
       "1             15000     In-store  \n",
       "2             14000     In-store  \n",
       "3             13388     In-store  "
      ]
     },
     "execution_count": 19,
     "metadata": {},
     "output_type": "execute_result"
    }
   ],
   "source": [
    "data.head(4)"
   ]
  },
  {
   "cell_type": "code",
   "execution_count": 20,
   "metadata": {},
   "outputs": [
    {
     "name": "stdout",
     "output_type": "stream",
     "text": [
      "<class 'pandas.core.frame.DataFrame'>\n",
      "RangeIndex: 9648 entries, 0 to 9647\n",
      "Data columns (total 12 columns):\n",
      " #   Column            Non-Null Count  Dtype         \n",
      "---  ------            --------------  -----         \n",
      " 0   Retailer          9648 non-null   object        \n",
      " 1   Retailer ID       9648 non-null   int64         \n",
      " 2   Invoice Date      9648 non-null   datetime64[ns]\n",
      " 3   Region            9641 non-null   object        \n",
      " 4   State             9648 non-null   object        \n",
      " 5   City              9648 non-null   object        \n",
      " 6   Product           9648 non-null   object        \n",
      " 7   Price per Unit    9648 non-null   float64       \n",
      " 8   Units Sold        9648 non-null   int32         \n",
      " 9   Total Sales       9648 non-null   int32         \n",
      " 10  Operating Profit  9648 non-null   int32         \n",
      " 11  Sales Method      9648 non-null   object        \n",
      "dtypes: datetime64[ns](1), float64(1), int32(3), int64(1), object(6)\n",
      "memory usage: 791.6+ KB\n"
     ]
    }
   ],
   "source": [
    "data.info()"
   ]
  },
  {
   "cell_type": "code",
   "execution_count": 21,
   "metadata": {},
   "outputs": [
    {
     "name": "stdout",
     "output_type": "stream",
     "text": [
      "<class 'pandas.core.frame.DataFrame'>\n",
      "RangeIndex: 9648 entries, 0 to 9647\n",
      "Data columns (total 12 columns):\n",
      " #   Column            Non-Null Count  Dtype         \n",
      "---  ------            --------------  -----         \n",
      " 0   Retailer          9648 non-null   object        \n",
      " 1   Retailer ID       9648 non-null   int64         \n",
      " 2   Invoice Date      9648 non-null   datetime64[ns]\n",
      " 3   Region            9641 non-null   object        \n",
      " 4   State             9648 non-null   object        \n",
      " 5   City              9648 non-null   object        \n",
      " 6   Product           9648 non-null   object        \n",
      " 7   Price per Unit    9648 non-null   float64       \n",
      " 8   Units Sold        9648 non-null   int32         \n",
      " 9   Total Sales       9648 non-null   int32         \n",
      " 10  Operating Profit  9648 non-null   int32         \n",
      " 11  Sales Method      9648 non-null   object        \n",
      "dtypes: datetime64[ns](1), float64(1), int32(3), int64(1), object(6)\n",
      "memory usage: 791.6+ KB\n"
     ]
    }
   ],
   "source": [
    "data.info()"
   ]
  },
  {
   "cell_type": "code",
   "execution_count": 22,
   "metadata": {},
   "outputs": [],
   "source": [
    "data[\"Years\"] = data[\"Invoice Date\"].dt.year"
   ]
  },
  {
   "cell_type": "code",
   "execution_count": 24,
   "metadata": {},
   "outputs": [],
   "source": [
    "data[\"Month\"] = data[\"Invoice Date\"].dt.month"
   ]
  },
  {
   "cell_type": "code",
   "execution_count": 25,
   "metadata": {},
   "outputs": [],
   "source": [
    "data.drop(\"Invoice Date\",axis = 1, inplace = True)\n"
   ]
  },
  {
   "cell_type": "code",
   "execution_count": 26,
   "metadata": {},
   "outputs": [],
   "source": [
    "data.drop(\"Retailer ID\",axis = 1, inplace = True)"
   ]
  },
  {
   "cell_type": "code",
   "execution_count": 27,
   "metadata": {},
   "outputs": [
    {
     "data": {
      "text/html": [
       "<div>\n",
       "<style scoped>\n",
       "    .dataframe tbody tr th:only-of-type {\n",
       "        vertical-align: middle;\n",
       "    }\n",
       "\n",
       "    .dataframe tbody tr th {\n",
       "        vertical-align: top;\n",
       "    }\n",
       "\n",
       "    .dataframe thead th {\n",
       "        text-align: right;\n",
       "    }\n",
       "</style>\n",
       "<table border=\"1\" class=\"dataframe\">\n",
       "  <thead>\n",
       "    <tr style=\"text-align: right;\">\n",
       "      <th></th>\n",
       "      <th>Retailer</th>\n",
       "      <th>Region</th>\n",
       "      <th>State</th>\n",
       "      <th>City</th>\n",
       "      <th>Product</th>\n",
       "      <th>Price per Unit</th>\n",
       "      <th>Units Sold</th>\n",
       "      <th>Total Sales</th>\n",
       "      <th>Operating Profit</th>\n",
       "      <th>Sales Method</th>\n",
       "      <th>Years</th>\n",
       "      <th>Month</th>\n",
       "    </tr>\n",
       "  </thead>\n",
       "  <tbody>\n",
       "    <tr>\n",
       "      <th>0</th>\n",
       "      <td>Foot Locker</td>\n",
       "      <td>Northeast</td>\n",
       "      <td>New York</td>\n",
       "      <td>New York</td>\n",
       "      <td>Men's Street Footwear</td>\n",
       "      <td>50.0</td>\n",
       "      <td>1200</td>\n",
       "      <td>60000</td>\n",
       "      <td>30000</td>\n",
       "      <td>In-store</td>\n",
       "      <td>2020</td>\n",
       "      <td>1</td>\n",
       "    </tr>\n",
       "    <tr>\n",
       "      <th>1</th>\n",
       "      <td>Foot Locker</td>\n",
       "      <td>Northeast</td>\n",
       "      <td>New York</td>\n",
       "      <td>New York</td>\n",
       "      <td>Men's Athletic Footwear</td>\n",
       "      <td>50.0</td>\n",
       "      <td>1000</td>\n",
       "      <td>50000</td>\n",
       "      <td>15000</td>\n",
       "      <td>In-store</td>\n",
       "      <td>2020</td>\n",
       "      <td>1</td>\n",
       "    </tr>\n",
       "    <tr>\n",
       "      <th>2</th>\n",
       "      <td>Foot Locker</td>\n",
       "      <td>Northeast</td>\n",
       "      <td>New York</td>\n",
       "      <td>New York</td>\n",
       "      <td>Women's Street Footwear</td>\n",
       "      <td>40.0</td>\n",
       "      <td>1000</td>\n",
       "      <td>40000</td>\n",
       "      <td>14000</td>\n",
       "      <td>In-store</td>\n",
       "      <td>2020</td>\n",
       "      <td>1</td>\n",
       "    </tr>\n",
       "    <tr>\n",
       "      <th>3</th>\n",
       "      <td>Foot Locker</td>\n",
       "      <td>Northeast</td>\n",
       "      <td>New York</td>\n",
       "      <td>New York</td>\n",
       "      <td>Women's Athletic Footwear</td>\n",
       "      <td>45.0</td>\n",
       "      <td>850</td>\n",
       "      <td>38250</td>\n",
       "      <td>13388</td>\n",
       "      <td>In-store</td>\n",
       "      <td>2020</td>\n",
       "      <td>1</td>\n",
       "    </tr>\n",
       "    <tr>\n",
       "      <th>4</th>\n",
       "      <td>Foot Locker</td>\n",
       "      <td>Northeast</td>\n",
       "      <td>New York</td>\n",
       "      <td>New York</td>\n",
       "      <td>Men's Apparel</td>\n",
       "      <td>60.0</td>\n",
       "      <td>900</td>\n",
       "      <td>54000</td>\n",
       "      <td>16200</td>\n",
       "      <td>In-store</td>\n",
       "      <td>2020</td>\n",
       "      <td>1</td>\n",
       "    </tr>\n",
       "  </tbody>\n",
       "</table>\n",
       "</div>"
      ],
      "text/plain": [
       "      Retailer     Region     State      City                    Product  \\\n",
       "0  Foot Locker  Northeast  New York  New York      Men's Street Footwear   \n",
       "1  Foot Locker  Northeast  New York  New York    Men's Athletic Footwear   \n",
       "2  Foot Locker  Northeast  New York  New York    Women's Street Footwear   \n",
       "3  Foot Locker  Northeast  New York  New York  Women's Athletic Footwear   \n",
       "4  Foot Locker  Northeast  New York  New York              Men's Apparel   \n",
       "\n",
       "   Price per Unit  Units Sold  Total Sales  Operating Profit Sales Method  \\\n",
       "0            50.0        1200        60000             30000     In-store   \n",
       "1            50.0        1000        50000             15000     In-store   \n",
       "2            40.0        1000        40000             14000     In-store   \n",
       "3            45.0         850        38250             13388     In-store   \n",
       "4            60.0         900        54000             16200     In-store   \n",
       "\n",
       "   Years  Month  \n",
       "0   2020      1  \n",
       "1   2020      1  \n",
       "2   2020      1  \n",
       "3   2020      1  \n",
       "4   2020      1  "
      ]
     },
     "execution_count": 27,
     "metadata": {},
     "output_type": "execute_result"
    }
   ],
   "source": [
    "data.head()"
   ]
  },
  {
   "cell_type": "code",
   "execution_count": 28,
   "metadata": {},
   "outputs": [
    {
     "data": {
      "text/plain": [
       "Product\n",
       "Men's Street Footwear        1610\n",
       "Men's Athletic Footwear      1610\n",
       "Women's Street Footwear      1608\n",
       "Women's Apparel              1608\n",
       "Women's Athletic Footwear    1606\n",
       "Men's Apparel                1605\n",
       "Men's aparel                    1\n",
       "Name: count, dtype: int64"
      ]
     },
     "execution_count": 28,
     "metadata": {},
     "output_type": "execute_result"
    }
   ],
   "source": [
    "data[\"Product\"].value_counts()"
   ]
  },
  {
   "cell_type": "code",
   "execution_count": 29,
   "metadata": {},
   "outputs": [],
   "source": [
    "data[\"Product\"] = data[\"Product\"].replace(\"Men's aparel\",np.nan)\n"
   ]
  },
  {
   "cell_type": "code",
   "execution_count": 30,
   "metadata": {},
   "outputs": [
    {
     "data": {
      "text/html": [
       "<div>\n",
       "<style scoped>\n",
       "    .dataframe tbody tr th:only-of-type {\n",
       "        vertical-align: middle;\n",
       "    }\n",
       "\n",
       "    .dataframe tbody tr th {\n",
       "        vertical-align: top;\n",
       "    }\n",
       "\n",
       "    .dataframe thead th {\n",
       "        text-align: right;\n",
       "    }\n",
       "</style>\n",
       "<table border=\"1\" class=\"dataframe\">\n",
       "  <thead>\n",
       "    <tr style=\"text-align: right;\">\n",
       "      <th></th>\n",
       "      <th>Retailer</th>\n",
       "      <th>Region</th>\n",
       "      <th>State</th>\n",
       "      <th>City</th>\n",
       "      <th>Product</th>\n",
       "      <th>Price per Unit</th>\n",
       "      <th>Units Sold</th>\n",
       "      <th>Total Sales</th>\n",
       "      <th>Operating Profit</th>\n",
       "      <th>Sales Method</th>\n",
       "      <th>Years</th>\n",
       "      <th>Month</th>\n",
       "    </tr>\n",
       "  </thead>\n",
       "  <tbody>\n",
       "    <tr>\n",
       "      <th>0</th>\n",
       "      <td>Foot Locker</td>\n",
       "      <td>Northeast</td>\n",
       "      <td>New York</td>\n",
       "      <td>New York</td>\n",
       "      <td>Men's Street Footwear</td>\n",
       "      <td>50.0</td>\n",
       "      <td>1200</td>\n",
       "      <td>60000</td>\n",
       "      <td>30000</td>\n",
       "      <td>In-store</td>\n",
       "      <td>2020</td>\n",
       "      <td>1</td>\n",
       "    </tr>\n",
       "    <tr>\n",
       "      <th>1</th>\n",
       "      <td>Foot Locker</td>\n",
       "      <td>Northeast</td>\n",
       "      <td>New York</td>\n",
       "      <td>New York</td>\n",
       "      <td>Men's Athletic Footwear</td>\n",
       "      <td>50.0</td>\n",
       "      <td>1000</td>\n",
       "      <td>50000</td>\n",
       "      <td>15000</td>\n",
       "      <td>In-store</td>\n",
       "      <td>2020</td>\n",
       "      <td>1</td>\n",
       "    </tr>\n",
       "    <tr>\n",
       "      <th>2</th>\n",
       "      <td>Foot Locker</td>\n",
       "      <td>Northeast</td>\n",
       "      <td>New York</td>\n",
       "      <td>New York</td>\n",
       "      <td>Women's Street Footwear</td>\n",
       "      <td>40.0</td>\n",
       "      <td>1000</td>\n",
       "      <td>40000</td>\n",
       "      <td>14000</td>\n",
       "      <td>In-store</td>\n",
       "      <td>2020</td>\n",
       "      <td>1</td>\n",
       "    </tr>\n",
       "    <tr>\n",
       "      <th>3</th>\n",
       "      <td>Foot Locker</td>\n",
       "      <td>Northeast</td>\n",
       "      <td>New York</td>\n",
       "      <td>New York</td>\n",
       "      <td>Women's Athletic Footwear</td>\n",
       "      <td>45.0</td>\n",
       "      <td>850</td>\n",
       "      <td>38250</td>\n",
       "      <td>13388</td>\n",
       "      <td>In-store</td>\n",
       "      <td>2020</td>\n",
       "      <td>1</td>\n",
       "    </tr>\n",
       "    <tr>\n",
       "      <th>4</th>\n",
       "      <td>Foot Locker</td>\n",
       "      <td>Northeast</td>\n",
       "      <td>New York</td>\n",
       "      <td>New York</td>\n",
       "      <td>Men's Apparel</td>\n",
       "      <td>60.0</td>\n",
       "      <td>900</td>\n",
       "      <td>54000</td>\n",
       "      <td>16200</td>\n",
       "      <td>In-store</td>\n",
       "      <td>2020</td>\n",
       "      <td>1</td>\n",
       "    </tr>\n",
       "  </tbody>\n",
       "</table>\n",
       "</div>"
      ],
      "text/plain": [
       "      Retailer     Region     State      City                    Product  \\\n",
       "0  Foot Locker  Northeast  New York  New York      Men's Street Footwear   \n",
       "1  Foot Locker  Northeast  New York  New York    Men's Athletic Footwear   \n",
       "2  Foot Locker  Northeast  New York  New York    Women's Street Footwear   \n",
       "3  Foot Locker  Northeast  New York  New York  Women's Athletic Footwear   \n",
       "4  Foot Locker  Northeast  New York  New York              Men's Apparel   \n",
       "\n",
       "   Price per Unit  Units Sold  Total Sales  Operating Profit Sales Method  \\\n",
       "0            50.0        1200        60000             30000     In-store   \n",
       "1            50.0        1000        50000             15000     In-store   \n",
       "2            40.0        1000        40000             14000     In-store   \n",
       "3            45.0         850        38250             13388     In-store   \n",
       "4            60.0         900        54000             16200     In-store   \n",
       "\n",
       "   Years  Month  \n",
       "0   2020      1  \n",
       "1   2020      1  \n",
       "2   2020      1  \n",
       "3   2020      1  \n",
       "4   2020      1  "
      ]
     },
     "execution_count": 30,
     "metadata": {},
     "output_type": "execute_result"
    }
   ],
   "source": [
    "data =data.dropna()\n",
    "data.head()"
   ]
  },
  {
   "cell_type": "code",
   "execution_count": 32,
   "metadata": {},
   "outputs": [
    {
     "data": {
      "text/plain": [
       "Retailer            0\n",
       "Region              0\n",
       "State               0\n",
       "City                0\n",
       "Product             0\n",
       "Price per Unit      0\n",
       "Units Sold          0\n",
       "Total Sales         0\n",
       "Operating Profit    0\n",
       "Sales Method        0\n",
       "Years               0\n",
       "Month               0\n",
       "dtype: int64"
      ]
     },
     "execution_count": 32,
     "metadata": {},
     "output_type": "execute_result"
    }
   ],
   "source": [
    "data.isnull().sum()"
   ]
  },
  {
   "cell_type": "code",
   "execution_count": 33,
   "metadata": {},
   "outputs": [
    {
     "data": {
      "text/html": [
       "<div>\n",
       "<style scoped>\n",
       "    .dataframe tbody tr th:only-of-type {\n",
       "        vertical-align: middle;\n",
       "    }\n",
       "\n",
       "    .dataframe tbody tr th {\n",
       "        vertical-align: top;\n",
       "    }\n",
       "\n",
       "    .dataframe thead th {\n",
       "        text-align: right;\n",
       "    }\n",
       "</style>\n",
       "<table border=\"1\" class=\"dataframe\">\n",
       "  <thead>\n",
       "    <tr style=\"text-align: right;\">\n",
       "      <th></th>\n",
       "      <th>Retailer</th>\n",
       "      <th>Region</th>\n",
       "      <th>State</th>\n",
       "      <th>City</th>\n",
       "      <th>Product</th>\n",
       "      <th>Price per Unit</th>\n",
       "      <th>Units Sold</th>\n",
       "      <th>Total Sales</th>\n",
       "      <th>Operating Profit</th>\n",
       "      <th>Sales Method</th>\n",
       "      <th>Years</th>\n",
       "      <th>Month</th>\n",
       "    </tr>\n",
       "  </thead>\n",
       "  <tbody>\n",
       "    <tr>\n",
       "      <th>0</th>\n",
       "      <td>Foot Locker</td>\n",
       "      <td>Northeast</td>\n",
       "      <td>New York</td>\n",
       "      <td>New York</td>\n",
       "      <td>Men's Street Footwear</td>\n",
       "      <td>50.0</td>\n",
       "      <td>1200</td>\n",
       "      <td>60000</td>\n",
       "      <td>30000</td>\n",
       "      <td>In-store</td>\n",
       "      <td>2020</td>\n",
       "      <td>1</td>\n",
       "    </tr>\n",
       "    <tr>\n",
       "      <th>1</th>\n",
       "      <td>Foot Locker</td>\n",
       "      <td>Northeast</td>\n",
       "      <td>New York</td>\n",
       "      <td>New York</td>\n",
       "      <td>Men's Athletic Footwear</td>\n",
       "      <td>50.0</td>\n",
       "      <td>1000</td>\n",
       "      <td>50000</td>\n",
       "      <td>15000</td>\n",
       "      <td>In-store</td>\n",
       "      <td>2020</td>\n",
       "      <td>1</td>\n",
       "    </tr>\n",
       "    <tr>\n",
       "      <th>2</th>\n",
       "      <td>Foot Locker</td>\n",
       "      <td>Northeast</td>\n",
       "      <td>New York</td>\n",
       "      <td>New York</td>\n",
       "      <td>Women's Street Footwear</td>\n",
       "      <td>40.0</td>\n",
       "      <td>1000</td>\n",
       "      <td>40000</td>\n",
       "      <td>14000</td>\n",
       "      <td>In-store</td>\n",
       "      <td>2020</td>\n",
       "      <td>1</td>\n",
       "    </tr>\n",
       "    <tr>\n",
       "      <th>3</th>\n",
       "      <td>Foot Locker</td>\n",
       "      <td>Northeast</td>\n",
       "      <td>New York</td>\n",
       "      <td>New York</td>\n",
       "      <td>Women's Athletic Footwear</td>\n",
       "      <td>45.0</td>\n",
       "      <td>850</td>\n",
       "      <td>38250</td>\n",
       "      <td>13388</td>\n",
       "      <td>In-store</td>\n",
       "      <td>2020</td>\n",
       "      <td>1</td>\n",
       "    </tr>\n",
       "    <tr>\n",
       "      <th>4</th>\n",
       "      <td>Foot Locker</td>\n",
       "      <td>Northeast</td>\n",
       "      <td>New York</td>\n",
       "      <td>New York</td>\n",
       "      <td>Men's Apparel</td>\n",
       "      <td>60.0</td>\n",
       "      <td>900</td>\n",
       "      <td>54000</td>\n",
       "      <td>16200</td>\n",
       "      <td>In-store</td>\n",
       "      <td>2020</td>\n",
       "      <td>1</td>\n",
       "    </tr>\n",
       "    <tr>\n",
       "      <th>5</th>\n",
       "      <td>Foot Locker</td>\n",
       "      <td>Northeast</td>\n",
       "      <td>New York</td>\n",
       "      <td>New York</td>\n",
       "      <td>Women's Apparel</td>\n",
       "      <td>50.0</td>\n",
       "      <td>1000</td>\n",
       "      <td>50000</td>\n",
       "      <td>12500</td>\n",
       "      <td>In-store</td>\n",
       "      <td>2020</td>\n",
       "      <td>1</td>\n",
       "    </tr>\n",
       "    <tr>\n",
       "      <th>6</th>\n",
       "      <td>Foot Locker</td>\n",
       "      <td>Northeast</td>\n",
       "      <td>New York</td>\n",
       "      <td>New York</td>\n",
       "      <td>Men's Street Footwear</td>\n",
       "      <td>50.0</td>\n",
       "      <td>1250</td>\n",
       "      <td>62500</td>\n",
       "      <td>31250</td>\n",
       "      <td>In-store</td>\n",
       "      <td>2020</td>\n",
       "      <td>1</td>\n",
       "    </tr>\n",
       "  </tbody>\n",
       "</table>\n",
       "</div>"
      ],
      "text/plain": [
       "      Retailer     Region     State      City                    Product  \\\n",
       "0  Foot Locker  Northeast  New York  New York      Men's Street Footwear   \n",
       "1  Foot Locker  Northeast  New York  New York    Men's Athletic Footwear   \n",
       "2  Foot Locker  Northeast  New York  New York    Women's Street Footwear   \n",
       "3  Foot Locker  Northeast  New York  New York  Women's Athletic Footwear   \n",
       "4  Foot Locker  Northeast  New York  New York              Men's Apparel   \n",
       "5  Foot Locker  Northeast  New York  New York            Women's Apparel   \n",
       "6  Foot Locker  Northeast  New York  New York      Men's Street Footwear   \n",
       "\n",
       "   Price per Unit  Units Sold  Total Sales  Operating Profit Sales Method  \\\n",
       "0            50.0        1200        60000             30000     In-store   \n",
       "1            50.0        1000        50000             15000     In-store   \n",
       "2            40.0        1000        40000             14000     In-store   \n",
       "3            45.0         850        38250             13388     In-store   \n",
       "4            60.0         900        54000             16200     In-store   \n",
       "5            50.0        1000        50000             12500     In-store   \n",
       "6            50.0        1250        62500             31250     In-store   \n",
       "\n",
       "   Years  Month  \n",
       "0   2020      1  \n",
       "1   2020      1  \n",
       "2   2020      1  \n",
       "3   2020      1  \n",
       "4   2020      1  \n",
       "5   2020      1  \n",
       "6   2020      1  "
      ]
     },
     "execution_count": 33,
     "metadata": {},
     "output_type": "execute_result"
    }
   ],
   "source": [
    "data.head(7)"
   ]
  }
 ],
 "metadata": {
  "kernelspec": {
   "display_name": "Python 3 (ipykernel)",
   "language": "python",
   "name": "python3"
  },
  "language_info": {
   "codemirror_mode": {
    "name": "ipython",
    "version": 3
   },
   "file_extension": ".py",
   "mimetype": "text/x-python",
   "name": "python",
   "nbconvert_exporter": "python",
   "pygments_lexer": "ipython3",
   "version": "3.11.5"
  }
 },
 "nbformat": 4,
 "nbformat_minor": 2
}
